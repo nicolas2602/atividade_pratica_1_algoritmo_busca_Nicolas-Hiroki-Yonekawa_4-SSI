{
  "cells": [
    {
      "cell_type": "markdown",
      "metadata": {
        "id": "view-in-github",
        "colab_type": "text"
      },
      "source": [
        "<a href=\"https://colab.research.google.com/github/nicolas2602/atividade_pratica_1_algoritmo_busca_Nicolas-Hiroki-Yonekawa_4-SSI/blob/main/atv_pratica_1_algoritmo_busca_Nicolas_Hiroki_Yonekawa_4%C2%B0SSI_180433.ipynb\" target=\"_parent\"><img src=\"https://colab.research.google.com/assets/colab-badge.svg\" alt=\"Open In Colab\"/></a>"
      ]
    },
    {
      "cell_type": "markdown",
      "metadata": {
        "id": "VEZb1JT6E_ND"
      },
      "source": [
        "# Atividade Prática 1 - Algoritmo de Busca\n",
        "\n",
        "**Nome:** Nicolas Hiroki Yonekawa\n",
        "\n",
        "**RA:** 180433\n",
        "\n",
        "**Curso:** Sistemas de Informação\n",
        "\n",
        "**Semestre:** 4°\n",
        "\n",
        "**Disciplina:** Estrutura de Dados II"
      ]
    },
    {
      "cell_type": "markdown",
      "metadata": {
        "id": "DApKRJavE_NE"
      },
      "source": [
        "### Classe de Busca Linear e Binária"
      ]
    },
    {
      "cell_type": "code",
      "execution_count": null,
      "metadata": {
        "id": "rrFH6Zm0E_NF"
      },
      "outputs": [],
      "source": [
        "class Busca:\n",
        "    def __init__(self, lista, alvo):\n",
        "        self.lista = lista\n",
        "        self.alvo = alvo\n",
        "\n",
        "    def busca_linear(self):\n",
        "        for i in range(len(self.lista)):\n",
        "            if self.lista[i] == self.alvo:\n",
        "                return i\n",
        "        return -1 # Caso não exista um item\n",
        "\n",
        "    def busca_binaria(self, inicio, fim):\n",
        "\n",
        "        if inicio <= fim:\n",
        "            meio = (fim + inicio) // 2\n",
        "\n",
        "            if self.lista[meio] == self.alvo:\n",
        "                return meio\n",
        "            elif self.lista[meio] > self.alvo:\n",
        "                return self.busca_binaria(inicio, meio-1)\n",
        "            else:\n",
        "                return self.busca_binaria(meio+1, fim)\n",
        "        else:\n",
        "            return -1 # Caso não exista um item"
      ]
    },
    {
      "cell_type": "markdown",
      "metadata": {
        "id": "fKSSzjz3E_NG"
      },
      "source": [
        "### Resultado"
      ]
    },
    {
      "cell_type": "code",
      "execution_count": null,
      "metadata": {
        "colab": {
          "base_uri": "https://localhost:8080/"
        },
        "id": "64PFmBPxE_NG",
        "outputId": "3c0478bd-73c6-4d0a-edb6-28637adf7277"
      },
      "outputs": [
        {
          "output_type": "stream",
          "name": "stdout",
          "text": [
            "Digite um número: 10\n",
            "Teste 1:\n",
            "Busca linear (Posição: 4)\n",
            "Busca binária:  (Posição: 4)\n",
            "\n",
            "Teste 2:\n",
            "Busca linear (Posição: 0)\n",
            "Busca binária:  (Posição: 0)\n",
            "\n",
            "Teste 3:\n",
            "Busca linear (Posição: -1)\n",
            "Busca binária:  (Posição: -1)\n"
          ]
        }
      ],
      "source": [
        "teste1 = [1, 2, 3, 4, 10]\n",
        "teste2 = [10, 20, 30, 40, 50]\n",
        "teste3 = []\n",
        "\n",
        "alvo = int(input(\"Digite um número: \"))\n",
        "\n",
        "b1 = Busca(teste1, alvo)\n",
        "b2 = Busca(teste2, alvo)\n",
        "b3 = Busca(teste3, alvo)\n",
        "\n",
        "# Teste 1\n",
        "busca_linear1 = b1.busca_linear()\n",
        "busca_binaria1 = b1.busca_binaria(0, len(teste1)-1)\n",
        "\n",
        "# Teste 2\n",
        "busca_linear2 = b2.busca_linear()\n",
        "busca_binaria2 = b2.busca_binaria(0, len(teste2)-1)\n",
        "\n",
        "# Teste 3\n",
        "busca_linear3 = b3.busca_linear()\n",
        "busca_binaria3 = b3.busca_binaria(0, len(teste3)-1)\n",
        "\n",
        "print(\"Teste 1:\")\n",
        "print(f\"Busca linear (Posição: {busca_linear1})\")\n",
        "print(f\"Busca binária:  (Posição: {busca_binaria1})\\n\")\n",
        "\n",
        "print(\"Teste 2:\")\n",
        "print(f\"Busca linear (Posição: {busca_linear2})\")\n",
        "print(f\"Busca binária:  (Posição: {busca_binaria2})\\n\")\n",
        "\n",
        "print(\"Teste 3:\")\n",
        "print(f\"Busca linear (Posição: {busca_linear3})\")\n",
        "print(f\"Busca binária:  (Posição: {busca_binaria3})\")"
      ]
    }
  ],
  "metadata": {
    "kernelspec": {
      "display_name": "Python 3",
      "language": "python",
      "name": "python3"
    },
    "language_info": {
      "codemirror_mode": {
        "name": "ipython",
        "version": 3
      },
      "file_extension": ".py",
      "mimetype": "text/x-python",
      "name": "python",
      "nbconvert_exporter": "python",
      "pygments_lexer": "ipython3",
      "version": "3.10.6"
    },
    "orig_nbformat": 4,
    "colab": {
      "provenance": [],
      "include_colab_link": true
    }
  },
  "nbformat": 4,
  "nbformat_minor": 0
}